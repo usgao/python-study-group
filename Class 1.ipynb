{
 "cells": [
  {
   "cell_type": "markdown",
   "metadata": {
    "slideshow": {
     "slide_type": "slide"
    }
   },
   "source": [
    "# Boring Discussion Groups"
   ]
  },
  {
   "cell_type": "markdown",
   "metadata": {
    "slideshow": {
     "slide_type": "slide"
    }
   },
   "source": [
    "\n",
    "\n",
    "# Guiding Principles\n",
    "\n",
    "This is a reading and discussion group. If you don’t do the reading before, you will gain very little from discussion sessions. Therefore, we strongly suggest that you put two 50-minute study sessions on your calendar before each discussion. You can claim CPEs for these sessions.\n",
    "\n",
    "The current state of the science of learning suggests the following:\n",
    "\n",
    "- ‘Fire Hose’ lectures (being talked at) do not work\n",
    "- Repetition (specifically, rereading) doesn’t work. As a simple example, take the penny memory test: http://www.indiana.edu/~p1013447/dictionary/penny.htm. Did you get it right? You see pennies every day, but repetitive observation isn’t the most effective way to learn. \n",
    "- Instead, cognitive science suggests that repeated testing results in learning. Repeated testing can come in the form of quizzes, solving practice problems, and using flash cards. Our discussion groups emphasize repeated testing.\n"
   ]
  },
  {
   "cell_type": "markdown",
   "metadata": {
    "slideshow": {
     "slide_type": "slide"
    }
   },
   "source": [
    "# Discussion Group Etiquette\n",
    "\n",
    "Come to the discussion group prepared to practice Python. Above all, do something consistent with earning CPEs. Ideally, you’ll be ready to participate in the practice for that week. However, if you haven’t had time to read the text, do that. If you missed a week and would like to do the practice problems from a previous week, please feel free. If you would like to read ahead, please do that. But please don’t distract others!\n"
   ]
  },
  {
   "cell_type": "markdown",
   "metadata": {
    "slideshow": {
     "slide_type": "slide"
    }
   },
   "source": [
    "# Textbook\n",
    "\n",
    "Automate the Boring Stuff. Can be found at: gao.skillport.com\n",
    "- Username:    your GAO email handle (ie, hiromotos for me)\n",
    "- Password:    gao (lowercase)"
   ]
  },
  {
   "cell_type": "markdown",
   "metadata": {
    "slideshow": {
     "slide_type": "slide"
    }
   },
   "source": [
    "# Flashcards\n",
    "\n",
    "- https://quizlet.com/416236111/automate-the-boring-stuff-ch-1-3-flash-cards/\n",
    "- https://quizlet.com/423840208/automate-the-boring-ch-4-6-flash-cards/\n",
    "- https://quizlet.com/429538848/automate-boring-7-9-flash-cards/\n"
   ]
  },
  {
   "cell_type": "markdown",
   "metadata": {
    "slideshow": {
     "slide_type": "slide"
    }
   },
   "source": [
    "## Chapters 1 and 2"
   ]
  },
  {
   "cell_type": "markdown",
   "metadata": {
    "slideshow": {
     "slide_type": "slide"
    }
   },
   "source": [
    "## Quiz "
   ]
  },
  {
   "cell_type": "markdown",
   "metadata": {
    "slideshow": {
     "slide_type": "slide"
    }
   },
   "source": [
    "## One\n",
    "\n",
    "Create a variable called myName that takes an input. Print ‘It’s good to meet you (myName).’ Then print: ‘the length of (myName) is (length).’\n"
   ]
  },
  {
   "cell_type": "code",
   "execution_count": null,
   "metadata": {
    "slideshow": {
     "slide_type": "slide"
    }
   },
   "outputs": [],
   "source": [
    "# you can type your code right into this box! \n",
    "# if you're stuck, the answer is on the next slide"
   ]
  },
  {
   "cell_type": "code",
   "execution_count": null,
   "metadata": {
    "slideshow": {
     "slide_type": "slide"
    }
   },
   "outputs": [],
   "source": [
    "\n",
    "print (\"Enter your name\")\n",
    "myName = input()\n",
    "print (\"It's good to meet you \" + myName)\n",
    "print (\"The length of \" + myName + \" is \" + str(len(myName)))"
   ]
  },
  {
   "cell_type": "code",
   "execution_count": null,
   "metadata": {
    "slideshow": {
     "slide_type": "skip"
    },
    "tags": [
     "hide_input"
    ]
   },
   "outputs": [],
   "source": [
    "import ipywidgets as widgets\n",
    "import sys\n",
    "from IPython.display import display\n",
    "from IPython.display import clear_output\n",
    "\n",
    "def create_multipleChoice_widget(description, options, correct_answer):\n",
    "    if correct_answer not in options:\n",
    "        options.append(correct_answer)\n",
    "    \n",
    "    correct_answer_index = options.index(correct_answer)\n",
    "    \n",
    "    radio_options = [(words, i) for i, words in enumerate(options)]\n",
    "    alternativ = widgets.RadioButtons(\n",
    "        options = radio_options,\n",
    "        description = '',\n",
    "        disabled = False\n",
    "    )\n",
    "    \n",
    "    description_out = widgets.Output()\n",
    "    with description_out:\n",
    "        print(description)\n",
    "        \n",
    "    feedback_out = widgets.Output()\n",
    "\n",
    "    def check_selection(b):\n",
    "        a = int(alternativ.value)\n",
    "        if a==correct_answer_index:\n",
    "            s = '\\x1b[6;30;42m' + \"Correct.\" + '\\x1b[0m' +\"\\n\" #green color\n",
    "        else:\n",
    "            s = '\\x1b[5;30;41m' + \"Incorrect. \" + '\\x1b[0m' +\"\\n\" #red color\n",
    "        with feedback_out:\n",
    "            clear_output()\n",
    "            print(s)\n",
    "        return\n",
    "    \n",
    "    check = widgets.Button(description=\"submit\")\n",
    "    check.on_click(check_selection)\n",
    "    \n",
    "    \n",
    "    return widgets.VBox([description_out, alternativ, check, feedback_out])"
   ]
  },
  {
   "cell_type": "markdown",
   "metadata": {
    "slideshow": {
     "slide_type": "slide"
    }
   },
   "source": [
    "## Two\n"
   ]
  },
  {
   "cell_type": "code",
   "execution_count": null,
   "metadata": {
    "slideshow": {
     "slide_type": "slide"
    }
   },
   "outputs": [],
   "source": [
    "bacon = 20\n",
    "bacon  + 1\n"
   ]
  },
  {
   "cell_type": "code",
   "execution_count": 45,
   "metadata": {
    "slideshow": {
     "slide_type": "skip"
    },
    "tags": [
     "hide_input"
    ]
   },
   "outputs": [],
   "source": [
    "Q2 = create_multipleChoice_widget('What is the value of bacon right now?',[\"20\",\n",
    "                                                                   \"21\"],\"20\"\n",
    "                                 )"
   ]
  },
  {
   "cell_type": "code",
   "execution_count": 50,
   "metadata": {
    "slideshow": {
     "slide_type": "slide"
    }
   },
   "outputs": [
    {
     "data": {
      "application/vnd.jupyter.widget-view+json": {
       "model_id": "63b604cc067d4ae89a0f36acba710820",
       "version_major": 2,
       "version_minor": 0
      },
      "text/plain": [
       "VBox(children=(Output(outputs=({'output_type': 'stream', 'text': 'What is the value of bacon right now?\\n', 'n…"
      ]
     },
     "metadata": {},
     "output_type": "display_data"
    }
   ],
   "source": [
    "# to get your second question, press shift + enter\n",
    "display(Q2)"
   ]
  },
  {
   "cell_type": "code",
   "execution_count": 47,
   "metadata": {
    "slideshow": {
     "slide_type": "skip"
    },
    "tags": [
     "hide_input"
    ]
   },
   "outputs": [],
   "source": [
    "Q3 = create_multipleChoice_widget('What is a variable in Python?',[\"Something that stores numbers and strings\",\n",
    "                                                                   \"Something that stores anything with a value\",\n",
    "                                                                   \"Something that stores strings\", \n",
    "                                                                   \"Something that stores numbers\"],\"Something that stores anything with a value\"\n",
    "                                 )"
   ]
  },
  {
   "cell_type": "code",
   "execution_count": 51,
   "metadata": {
    "scrolled": true,
    "slideshow": {
     "slide_type": "slide"
    }
   },
   "outputs": [
    {
     "data": {
      "application/vnd.jupyter.widget-view+json": {
       "model_id": "309d5f26cec84be297ec8ca2fa7b901f",
       "version_major": 2,
       "version_minor": 0
      },
      "text/plain": [
       "VBox(children=(Output(outputs=({'output_type': 'stream', 'text': 'What is a variable in Python?\\n', 'name': 's…"
      ]
     },
     "metadata": {},
     "output_type": "display_data"
    }
   ],
   "source": [
    "# to get your third question, press shift + enter\n",
    "display(Q3)"
   ]
  },
  {
   "cell_type": "markdown",
   "metadata": {
    "slideshow": {
     "slide_type": "slide"
    }
   },
   "source": [
    "## Four\n",
    "Why does the following code cause an error? Alter it to fix any problems\n",
    "\n",
    "\n",
    "\n"
   ]
  },
  {
   "cell_type": "code",
   "execution_count": null,
   "metadata": {
    "slideshow": {
     "slide_type": "slide"
    }
   },
   "outputs": [],
   "source": [
    "print('I have eaten' + 99 + 'burritos'\n"
   ]
  },
  {
   "cell_type": "markdown",
   "metadata": {
    "slideshow": {
     "slide_type": "slide"
    }
   },
   "source": [
    "## Five\n",
    "What can you press if your program is stuck in an infinite loop?\n"
   ]
  },
  {
   "cell_type": "markdown",
   "metadata": {
    "slideshow": {
     "slide_type": "slide"
    }
   },
   "source": [
    "Ctrl-C"
   ]
  },
  {
   "cell_type": "markdown",
   "metadata": {
    "slideshow": {
     "slide_type": "slide"
    }
   },
   "source": [
    "## Six\n",
    "\n",
    "Now use a while loop to do the same thing: print 'hello' five times\n",
    "\n"
   ]
  },
  {
   "cell_type": "code",
   "execution_count": null,
   "metadata": {
    "slideshow": {
     "slide_type": "slide"
    }
   },
   "outputs": [],
   "source": [
    "# you can type your code right into this box! \n",
    "# if you're stuck, the answer is on the next slide"
   ]
  },
  {
   "cell_type": "code",
   "execution_count": null,
   "metadata": {
    "slideshow": {
     "slide_type": "slide"
    }
   },
   "outputs": [],
   "source": [
    "i = 0\n",
    "\n",
    "while i < 5:\n",
    "    print('hello')\n",
    "    i = i + 1\n",
    "\n"
   ]
  },
  {
   "cell_type": "markdown",
   "metadata": {
    "slideshow": {
     "slide_type": "slide"
    }
   },
   "source": [
    "# In-Class Exercises"
   ]
  },
  {
   "cell_type": "markdown",
   "metadata": {
    "slideshow": {
     "slide_type": "slide"
    }
   },
   "source": [
    "# Zero\n",
    "\n",
    "- Print ‘Hello world!’. \n",
    "- Print ‘What is your name?’. \n",
    "- Create the variable myName, which is a user input. \n",
    "- Print ‘It is good to meet you, (myName)’. \n",
    "- Print the length of the name.\n",
    "\n",
    "- Print ‘What is your age?’. \n",
    "- Create the variable myAge, which is a user input. \n",
    "- Print ‘You will be (myAge +1) in a year.’) \n"
   ]
  },
  {
   "cell_type": "code",
   "execution_count": null,
   "metadata": {
    "slideshow": {
     "slide_type": "slide"
    }
   },
   "outputs": [],
   "source": [
    "1 # This program says hello and asks for my name.\n",
    "\n",
    "print('Hello world!')\n",
    "print('What is your name?')    # ask for their name\n",
    "myName = input()\n",
    "print('It is good to meet you, ' + myName)\n",
    "print('The length of your name is:')\n",
    "print(len(myName))\n",
    "print('What is your age?')    # ask for their age\n",
    "myAge = input()\n",
    "print('You will be ' + str(int(myAge) + 1) + ' in a year.')\n"
   ]
  },
  {
   "cell_type": "markdown",
   "metadata": {
    "slideshow": {
     "slide_type": "slide"
    }
   },
   "source": [
    "## One\n",
    "\n",
    "- Display ‘please enter your name:’, then create the variable ‘name’ as an input. \n",
    "- Create a program that prints ‘it's good to meet you alice’ if the person’s name is alice, ‘hello martin’ if the person’s name is martin, or ‘go away’ otherwise\n",
    "\n",
    "\n"
   ]
  },
  {
   "cell_type": "code",
   "execution_count": null,
   "metadata": {
    "slideshow": {
     "slide_type": "slide"
    }
   },
   "outputs": [],
   "source": [
    "print('please enter your name:')\n",
    "name = input()\n",
    "\n",
    "if name == 'alice':\n",
    "    print(\"it's good to meet you alice\")\n",
    "elif name == 'martin':\n",
    "    print('hello martin')\n",
    "else:\n",
    "    print('go away')"
   ]
  },
  {
   "cell_type": "markdown",
   "metadata": {
    "slideshow": {
     "slide_type": "slide"
    }
   },
   "source": [
    "## Two\n",
    "\n",
    "- Display ‘please enter your name:’, then create the variable ‘name’ as an input. \n",
    "\n",
    "- Display ‘enter your age:’ and then create the variable ‘age’ as input.\n",
    "- Calculate the year that this individual will turn 100, and store that in a variable called ‘century’\n",
    "\n",
    "- Display ‘enter a number between 1 and 10’, then create the variable ‘repeat’ as input. Use assert to make sure that the variable ‘repeat’ is between 1 and 10, inclusive.\n",
    "\n",
    "- Print ‘hello (name)’\n",
    "\n",
    "- Print ‘you will be 100 in (century)’, repeating this message the number of times the user assigned to the variable ‘repeat’\n",
    "\n"
   ]
  },
  {
   "cell_type": "code",
   "execution_count": null,
   "metadata": {
    "slideshow": {
     "slide_type": "slide"
    }
   },
   "outputs": [],
   "source": [
    "\n",
    "print('please enter your name:')\n",
    "name = input()\n",
    "\n",
    "print('enter your age:')\n",
    "age = int(input())\n",
    "century = 2020 - age + 100\n",
    "\n",
    "print('enter a number between 1 and 10')\n",
    "repeat = int(input())\n",
    "assert 1 <= repeat <= 10\n",
    "\n",
    "print('hello '+ name)\n",
    "\n",
    "print(('you will be 100 in ' + str(century) + '\\n') * repeat)"
   ]
  }
 ],
 "metadata": {
  "celltoolbar": "Slideshow",
  "kernelspec": {
   "display_name": "Python 3",
   "language": "python",
   "name": "python3"
  },
  "language_info": {
   "codemirror_mode": {
    "name": "ipython",
    "version": 3
   },
   "file_extension": ".py",
   "mimetype": "text/x-python",
   "name": "python",
   "nbconvert_exporter": "python",
   "pygments_lexer": "ipython3",
   "version": "3.7.3"
  }
 },
 "nbformat": 4,
 "nbformat_minor": 4
}
