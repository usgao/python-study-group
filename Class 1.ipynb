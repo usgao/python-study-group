{
 "cells": [
  {
   "cell_type": "markdown",
   "metadata": {
    "slideshow": {
     "slide_type": "slide"
    }
   },
   "source": [
    "# Boring Discussion Groups"
   ]
  },
  {
   "cell_type": "markdown",
   "metadata": {
    "slideshow": {
     "slide_type": "slide"
    }
   },
   "source": [
    "\n",
    "\n",
    "# Guiding Principles\n",
    "\n",
    "This is a reading and discussion group. If you don’t do the reading before, you will gain very little from discussion sessions. Therefore, we strongly suggest that you put two 50-minute study sessions on your calendar before each discussion. You can claim CPEs for these sessions.\n",
    "\n",
    "The current state of the science of learning suggests the following:\n",
    "\n",
    "- ‘Fire Hose’ lectures (being talked at) do not work\n",
    "- Repetition (specifically, rereading) doesn’t work. As a simple example, take the penny memory test: http://www.indiana.edu/~p1013447/dictionary/penny.htm. Did you get it right? You see pennies every day, but repetitive observation isn’t the most effective way to learn. \n",
    "- Instead, cognitive science suggests that repeated testing results in learning. Repeated testing can come in the form of quizzes, solving practice problems, and using flash cards. Our discussion groups emphasize repeated testing.\n"
   ]
  },
  {
   "cell_type": "markdown",
   "metadata": {
    "slideshow": {
     "slide_type": "slide"
    }
   },
   "source": [
    "# Discussion Group Etiquette\n",
    "\n",
    "Come to the discussion group prepared to practice Python. Above all, do something consistent with earning CPEs. Ideally, you’ll be ready to participate in the practice for that week. However, if you haven’t had time to read the text, do that. If you missed a week and would like to do the practice problems from a previous week, please feel free. If you would like to read ahead, please do that. But please don’t distract others!\n"
   ]
  },
  {
   "cell_type": "markdown",
   "metadata": {
    "slideshow": {
     "slide_type": "slide"
    }
   },
   "source": [
    "# Textbook\n",
    "\n",
    "Automate the Boring Stuff. Can be found at: gao.skillport.com\n",
    "- Username:    your GAO email handle (ie, hiromotos for me)\n",
    "- Password:    gao (lowercase)"
   ]
  },
  {
   "cell_type": "markdown",
   "metadata": {
    "slideshow": {
     "slide_type": "slide"
    }
   },
   "source": [
    "# Flashcards\n",
    "\n",
    "- https://quizlet.com/416236111/automate-the-boring-stuff-ch-1-3-flash-cards/\n",
    "- https://quizlet.com/423840208/automate-the-boring-ch-4-6-flash-cards/\n",
    "- https://quizlet.com/429538848/automate-boring-7-9-flash-cards/\n"
   ]
  },
  {
   "cell_type": "markdown",
   "metadata": {
    "slideshow": {
     "slide_type": "slide"
    }
   },
   "source": [
    "## Chapters 1 and 2"
   ]
  },
  {
   "cell_type": "code",
   "execution_count": null,
   "metadata": {
    "slideshow": {
     "slide_type": "slide"
    }
   },
   "outputs": [],
   "source": [
    "## Quiz "
   ]
  }
 ],
 "metadata": {
  "celltoolbar": "Slideshow",
  "kernelspec": {
   "display_name": "Python 3",
   "language": "python",
   "name": "python3"
  },
  "language_info": {
   "codemirror_mode": {
    "name": "ipython",
    "version": 3
   },
   "file_extension": ".py",
   "mimetype": "text/x-python",
   "name": "python",
   "nbconvert_exporter": "python",
   "pygments_lexer": "ipython3",
   "version": "3.7.3"
  }
 },
 "nbformat": 4,
 "nbformat_minor": 4
}
